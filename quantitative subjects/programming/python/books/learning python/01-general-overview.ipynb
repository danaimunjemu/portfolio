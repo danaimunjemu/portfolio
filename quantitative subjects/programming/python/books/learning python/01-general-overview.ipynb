{
 "cells": [
  {
   "metadata": {},
   "cell_type": "markdown",
   "source": [
    "# Chapter 1 General Overview\n",
    "*The original name of this chapter is A Python Q&A Session, however, I renamed it as I refactored the structure of the chapter*"
   ],
   "id": "7a8a820bbc564b8a"
  },
  {
   "metadata": {},
   "cell_type": "markdown",
   "source": [
    "## 1.1 Why Do People Use Python?\n",
    "\n",
    "Python has a keen focus on readability, coherence and software quality - which sets it apart from other scripting tools.\n",
    "It also supports software *reuse mechanisms* such as **object-oriented (OO)** and **functional programming**.\n",
    "Python is also portable - the program can run unchanged on *all major computer platforms*. Porting Python code is usually just a matter of copying the script code.\n",
    "Python code can invoke C and C++ Libraries, can be called from C and C++ programs, can integrate with Java and .Net components, can communicate over frameworks such as COM and Silverlight, can interface with devices over serial ports, and can interact over networks with interfaces like SOAP, XML-RPC, and COBRA.\n",
    "\n",
    "### Consistency\n",
    "Features of the language interact in consistent and limited ways and follow naturally from a small set of core concepts.\n",
    "\n",
    "\n",
    "### Developer Productivity\n",
    "It is deliberately optimised for *speed of development* "
   ],
   "id": "d92b8262caa36ced"
  },
  {
   "metadata": {},
   "cell_type": "markdown",
   "source": [
    "## 1.2 Is Python a Scripting Language\n",
    "Python is a general purpose programming language that is often applied in scripting roles. It blends *procedural, functional, and object-oriented paradigms*.\n",
    "People often use the terms script and program interchangeably, but generally use *script* to describe a simpler top-level file and *program* to refer to a more sophisticated multi-file application."
   ],
   "id": "a80e6e61a21e0bc8"
  },
  {
   "metadata": {},
   "cell_type": "markdown",
   "source": "## 1.3 Ok, but What's the Downside?",
   "id": "e4a9fb99101cefa4"
  },
  {
   "metadata": {},
   "cell_type": "markdown",
   "source": "## 1.4 Who Uses Python today?",
   "id": "43f854dd5bbdd07e"
  },
  {
   "metadata": {},
   "cell_type": "markdown",
   "source": "## 1.5 What can I do with Python?",
   "id": "a2b7e91f44ebfa74"
  },
  {
   "metadata": {},
   "cell_type": "markdown",
   "source": "## 1.6 How is Python developed and supported?",
   "id": "73407e2040dcc209"
  },
  {
   "metadata": {},
   "cell_type": "markdown",
   "source": "## 1.7 What are Python's technical strengths?",
   "id": "6246aa11f0ba9f98"
  },
  {
   "metadata": {},
   "cell_type": "markdown",
   "source": "## 1.8 How does Python stack up to Language X?",
   "id": "cf662310022a2889"
  },
  {
   "metadata": {},
   "cell_type": "markdown",
   "source": "## 1.9 Summary",
   "id": "53f535bafdc4d63e"
  }
 ],
 "metadata": {
  "kernelspec": {
   "display_name": "Python 3",
   "language": "python",
   "name": "python3"
  },
  "language_info": {
   "codemirror_mode": {
    "name": "ipython",
    "version": 2
   },
   "file_extension": ".py",
   "mimetype": "text/x-python",
   "name": "python",
   "nbconvert_exporter": "python",
   "pygments_lexer": "ipython2",
   "version": "2.7.6"
  }
 },
 "nbformat": 4,
 "nbformat_minor": 5
}
