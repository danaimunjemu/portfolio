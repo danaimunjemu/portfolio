{
 "cells": [
  {
   "metadata": {},
   "cell_type": "markdown",
   "source": "# Chapter 1 -> The Python Data Model",
   "id": "b89617a5c9c9a7b5"
  },
  {
   "metadata": {},
   "cell_type": "markdown",
   "source": [
    "## Introduction\n",
    "\n",
    "Python is an object-oriented programming language.\n",
    "The **Python Data Model** is the API that we use to make our own objects play well with the idiomatic language features. It is a description of Python as a framework.\n",
    "We can leverage the Python data model to build new classes. The Python interpreter invokes special methods (called *dunders* - always writtern with leading and trailing double underscores). For example `__getitem__`.\n",
    "\n",
    "The following are examples of fundamental language constructs:\n",
    "- Collections\n",
    "- Attribute access\n",
    "- Iteration\n",
    "- Operator overloading\n",
    "- Function and method invocation\n",
    "- String representation and formatting\n",
    "- Asynchronous programming using `await`\n",
    "- Object creation and destruction\n",
    "- Managed contexts using the `with` or `async with` statements."
   ],
   "id": "bd6784b613b8a470"
  },
  {
   "metadata": {},
   "cell_type": "markdown",
   "source": [
    "## A Pythonic Card Deck\n",
    "The power of implementing the special methods, `__getitem__` and `__len__`:"
   ],
   "id": "60b10f3fc73a3834"
  },
  {
   "metadata": {
    "ExecuteTime": {
     "end_time": "2024-11-05T10:01:13.960748Z",
     "start_time": "2024-11-05T10:01:13.952539Z"
    }
   },
   "cell_type": "code",
   "source": [
    "# Example  - a card as a sequence of playing cards\n",
    "\n",
    "import collections\n",
    "\n",
    "Card = collections.namedtuple('Card', ['rank', 'suit'])\n",
    "\n",
    "class FrenchCard(Card):\n",
    "    ranks = [str(n) for n in range(2, 11)] + list('JQKA')\n",
    "    suits = 'spades diamonds clubs hearts'.split()\n",
    "    \n",
    "    def __init__(self):\n",
    "        self.cards = [Card(rank, suit)  for suit in self.suits\n",
    "                                        for rank in self.ranks]\n",
    "        \n",
    "    def __len__(self):\n",
    "        return len(self._cards)\n",
    "    \n",
    "    def __getitem__(self, position):\n",
    "        return self._cards[position]"
   ],
   "id": "9385885784609fbc",
   "outputs": [],
   "execution_count": 2
  },
  {
   "metadata": {},
   "cell_type": "markdown",
   "source": "The main idea with the code above is to make a deck of cards that behaves like a list - it supports indexing and length-checking. This is made possible using the dunder methods. The code below provides an explanation of the code above:",
   "id": "e03df946f381c709"
  },
  {
   "metadata": {},
   "cell_type": "markdown",
   "source": [
    "### Card -> the named tuple\n",
    "```python\n",
    "Card = collections.namedtuple('Card', ['rank', 'suit'])\n",
    "```\n",
    "\n",
    "`namedtuple` is a Python utility that creates simple classes to store data. In this example, `Card` is a named tuple with two fields: `rank` and `suit`.\n",
    "this gives us a lightweight, *immutable* container for each card\n",
    "\n",
    "`Card('A', 'spades')` would represent the Ace of Spades."
   ],
   "id": "53d6fc670f60ede9"
  },
  {
   "metadata": {},
   "cell_type": "markdown",
   "source": [
    "### FrenchCard Class\n",
    "\n",
    "```python\n",
    "class FrenchCard(Card):\n",
    "    ranks = [str(n) for n in range(2, 11)] + list('JQKA')\n",
    "    suits = 'spades diamonds clubs hearts'.split()\n",
    "    \n",
    "    def __init__(self):\n",
    "        self.cards = [Card(rank, suit) for suit in self.suits for rank in self.ranks]\n",
    "```\n",
    "\n",
    "`FrenchCard` is a custom class that inherits from `Card`. It "
   ],
   "id": "b7b7cbe3171d991b"
  },
  {
   "metadata": {},
   "cell_type": "markdown",
   "source": [
    "# Appendix\n",
    "\n",
    "1. Python Data Model\n",
    "2. Dunders\n",
    "3. Statement\n",
    "4. Asynchronous\n",
    "5. Language Constructs\n",
    "6. Pythonic"
   ],
   "id": "65141fa69e460cd8"
  },
  {
   "metadata": {},
   "cell_type": "code",
   "outputs": [],
   "execution_count": null,
   "source": "",
   "id": "31d3ab28e709abff"
  }
 ],
 "metadata": {
  "kernelspec": {
   "display_name": "Python 3",
   "language": "python",
   "name": "python3"
  },
  "language_info": {
   "codemirror_mode": {
    "name": "ipython",
    "version": 2
   },
   "file_extension": ".py",
   "mimetype": "text/x-python",
   "name": "python",
   "nbconvert_exporter": "python",
   "pygments_lexer": "ipython2",
   "version": "2.7.6"
  }
 },
 "nbformat": 4,
 "nbformat_minor": 5
}
